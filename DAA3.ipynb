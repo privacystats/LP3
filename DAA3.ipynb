{
 "cells": [
  {
   "cell_type": "markdown",
   "id": "7fe12057",
   "metadata": {},
   "source": [
    "## Ratio"
   ]
  },
  {
   "cell_type": "code",
   "execution_count": 1,
   "id": "c20c0191",
   "metadata": {},
   "outputs": [
    {
     "name": "stdout",
     "output_type": "stream",
     "text": [
      "Maximum profit is:  240.0\n",
      "The Sequence of objects is:  ['a', 'b', 'c']\n"
     ]
    }
   ],
   "source": [
    "W = 50\n",
    "items = [(60, 10, 'a'), (100, 20, 'b'), (120, 30, 'c')]\n",
    "\n",
    "def FKS(W, items):\n",
    "    #sort acc. to profit/weight\n",
    "    items.sort(key = lambda x: x[0]/x[1], reverse = True)\n",
    "    \n",
    "    maxProfit = 0.0\n",
    "    seq = []\n",
    "    \n",
    "    for item in items:\n",
    "        profit, weight, item_id = item\n",
    "        \n",
    "        if weight <= W:\n",
    "            W -= weight\n",
    "            maxProfit += profit\n",
    "            seq.append(item_id)\n",
    "        else:\n",
    "            maxProfit += profit * W / weight\n",
    "            seq.append(item_id)\n",
    "            break\n",
    "            \n",
    "    return maxProfit, seq\n",
    "\n",
    "\n",
    "maxProfit, seq = FKS(W, items)\n",
    "print(\"Maximum profit is: \", maxProfit)\n",
    "print(\"The Sequence of objects is: \", seq)"
   ]
  },
  {
   "cell_type": "markdown",
   "id": "2575ff21",
   "metadata": {},
   "source": [
    "## 2approaches"
   ]
  },
  {
   "cell_type": "code",
   "execution_count": 5,
   "id": "bbe54824",
   "metadata": {},
   "outputs": [
    {
     "name": "stdout",
     "output_type": "stream",
     "text": [
      "Weight:  10\n",
      "Profit:  37\n",
      "Items:  [2, 4, 3]\n"
     ]
    }
   ],
   "source": [
    "def sortIt(sortIdx, compIdx, size):\n",
    "    for i in range(size - 1):\n",
    "        for j in range(i+1, size):\n",
    "            if data[i][sortIdx] < data[j][sortIdx]:\n",
    "                data[i], data[j] = data[j], data[i]\n",
    "            elif ((data[i][sortIdx] == data[j][sortIdx]) and (data[i][compIdx] > data[j][compIdx])):\n",
    "                data[i], data[j] = data[j], data[i]\n",
    "                \n",
    "def knapsack(weight, profit):\n",
    "    idx = 0\n",
    "    while weight < max:\n",
    "        if weight+data[idx][2]<= max:\n",
    "            weight += data[idx][2]\n",
    "            profit += data[idx][1]\n",
    "            item.append(data[idx][0])\n",
    "        else:\n",
    "            remain = max - weight\n",
    "            profit += data[idx][1] * (remain/data[idx][2])\n",
    "            weight += remain\n",
    "            item.append(data[idx][0])\n",
    "        idx += 1\n",
    "        \n",
    "    print(\"Weight: \", weight)\n",
    "    print(\"Profit: \", profit)\n",
    "    print(\"Items: \", item)\n",
    "    \n",
    "data = [\n",
    "    #id,profit,weight\n",
    "    [1, 10, 3],\n",
    "    [2, 15, 3],\n",
    "    [3, 10, 2],\n",
    "    [4, 12, 5],\n",
    "    [5, 8, 1]\n",
    "]\n",
    "\n",
    "item = []\n",
    "max = 10\n",
    "weight = 0\n",
    "profit = 0\n",
    "size= len(data)\n",
    "sortIt(1, 2, size)\n",
    "knapsack(weight, profit)"
   ]
  },
  {
   "cell_type": "code",
   "execution_count": null,
   "id": "2a4e8fb7",
   "metadata": {},
   "outputs": [],
   "source": []
  }
 ],
 "metadata": {
  "kernelspec": {
   "display_name": "Python 3 (ipykernel)",
   "language": "python",
   "name": "python3"
  },
  "language_info": {
   "codemirror_mode": {
    "name": "ipython",
    "version": 3
   },
   "file_extension": ".py",
   "mimetype": "text/x-python",
   "name": "python",
   "nbconvert_exporter": "python",
   "pygments_lexer": "ipython3",
   "version": "3.11.2"
  }
 },
 "nbformat": 4,
 "nbformat_minor": 5
}
