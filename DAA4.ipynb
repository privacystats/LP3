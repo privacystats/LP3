{
 "cells": [
  {
   "cell_type": "code",
   "execution_count": null,
   "id": "5dbd1f73",
   "metadata": {},
   "outputs": [],
   "source": [
    "# A Dynamic Programming based Python \n",
    "# Program for 0-1 Knapsack problem \n",
    "# Returns the maximum value that can \n",
    "# be put in a knapsack of capacity W \n",
    "\n",
    "\n",
    "def knapSack(W, wt, val, n): \n",
    "\tK = [[0 for x in range(W + 1)] for x in range(n + 1)] \n",
    "\n",
    "\t# Build table K[][] in bottom up manner \n",
    "\tfor i in range(n + 1): \n",
    "\t\tfor w in range(W + 1): \n",
    "\t\t\tif i == 0 or w == 0: \n",
    "\t\t\t\tK[i][w] = 0\n",
    "\t\t\telif wt[i-1] <= w: \n",
    "\t\t\t\tK[i][w] = max(val[i-1] \n",
    "\t\t\t\t\t\t\t+ K[i-1][w-wt[i-1]], \n",
    "\t\t\t\t\t\t\tK[i-1][w]) \n",
    "\t\t\telse: \n",
    "\t\t\t\tK[i][w] = K[i-1][w] \n",
    "\n",
    "\treturn K[n][W] \n",
    "\n",
    "\n",
    "# Driver code \n",
    "if __name__ == '__main__': \n",
    "\tprofit = [60, 100, 120] \n",
    "\tweight = [10, 20, 30] \n",
    "\tW = 50\n",
    "\tn = len(profit) \n",
    "\tprint(knapSack(W, weight, profit, n)) \n",
    "\n",
    "# This code is contributed by Bhavya Jain \n"
   ]
  },
  {
   "cell_type": "code",
   "execution_count": null,
   "id": "45014756",
   "metadata": {},
   "outputs": [],
   "source": []
  }
 ],
 "metadata": {
  "kernelspec": {
   "display_name": "Python 3 (ipykernel)",
   "language": "python",
   "name": "python3"
  },
  "language_info": {
   "codemirror_mode": {
    "name": "ipython",
    "version": 3
   },
   "file_extension": ".py",
   "mimetype": "text/x-python",
   "name": "python",
   "nbconvert_exporter": "python",
   "pygments_lexer": "ipython3",
   "version": "3.11.2"
  }
 },
 "nbformat": 4,
 "nbformat_minor": 5
}
