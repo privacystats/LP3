{
 "cells": [
  {
   "cell_type": "markdown",
   "id": "5b33994c",
   "metadata": {},
   "source": [
    "## N-QUEENS BACKTRACKING"
   ]
  },
  {
   "cell_type": "code",
   "execution_count": 1,
   "id": "101371e1",
   "metadata": {},
   "outputs": [
    {
     "name": "stdout",
     "output_type": "stream",
     "text": [
      "1 0 0 0 0 0 0 0 \n",
      "0 0 0 0 0 0 1 0 \n",
      "0 0 0 0 1 0 0 0 \n",
      "0 0 0 0 0 0 0 1 \n",
      "0 1 0 0 0 0 0 0 \n",
      "0 0 0 1 0 0 0 0 \n",
      "0 0 0 0 0 1 0 0 \n",
      "0 0 1 0 0 0 0 0 \n"
     ]
    },
    {
     "data": {
      "text/plain": [
       "True"
      ]
     },
     "execution_count": 1,
     "metadata": {},
     "output_type": "execute_result"
    }
   ],
   "source": [
    "N = 8\n",
    "\n",
    "def printSolution(board):\n",
    "    for i in range(N):\n",
    "        for j in range(N):\n",
    "            print(board[i][j], end = \" \")\n",
    "        print()\n",
    "        \n",
    "def isSafe(board, row, col):\n",
    "    # Horizontal condition\n",
    "    for i in range(N):\n",
    "        if board[row][i] == 1:\n",
    "            return False\n",
    "    \n",
    "    # Upper Left diagonal\n",
    "    for i,j in zip(range(row, -1, -1), range(col, -1, -1)):\n",
    "        if board[i][j] == 1:\n",
    "            return False\n",
    "    \n",
    "    # Lower Right diagonal\n",
    "    for i,j in zip(range(row, N, 1), range(col, -1, -1)):\n",
    "        if board[i][j] == 1:\n",
    "            return False\n",
    "        \n",
    "    return True\n",
    "\n",
    "def solveNQUtil(board, col):\n",
    "    \n",
    "    if col >= N:\n",
    "        return True\n",
    "    \n",
    "    for i in range(N):\n",
    "        if isSafe(board, i, col):\n",
    "            board[i][col] = 1\n",
    "            \n",
    "            if solveNQUtil(board, col + 1):\n",
    "                return True\n",
    "            \n",
    "            board[i][col] = 0\n",
    "            \n",
    "    return False\n",
    "\n",
    "def solveNQ():\n",
    "    board = [[ 0 for i in range(N)] for j in range(N)]\n",
    "    \n",
    "    if solveNQUtil(board, 0) == False:\n",
    "        print(\"NO SOLUTION\")\n",
    "        return False\n",
    "    \n",
    "    printSolution(board)\n",
    "    \n",
    "    return True\n",
    "\n",
    "solveNQ()"
   ]
  },
  {
   "cell_type": "code",
   "execution_count": null,
   "id": "36d8a799",
   "metadata": {},
   "outputs": [],
   "source": []
  }
 ],
 "metadata": {
  "kernelspec": {
   "display_name": "Python 3 (ipykernel)",
   "language": "python",
   "name": "python3"
  },
  "language_info": {
   "codemirror_mode": {
    "name": "ipython",
    "version": 3
   },
   "file_extension": ".py",
   "mimetype": "text/x-python",
   "name": "python",
   "nbconvert_exporter": "python",
   "pygments_lexer": "ipython3",
   "version": "3.11.2"
  }
 },
 "nbformat": 4,
 "nbformat_minor": 5
}
