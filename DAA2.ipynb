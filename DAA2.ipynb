{
 "cells": [
  {
   "cell_type": "markdown",
   "id": "9b25b4c8",
   "metadata": {},
   "source": [
    "## HUFFMAN"
   ]
  },
  {
   "cell_type": "code",
   "execution_count": null,
   "id": "f7d8599b",
   "metadata": {},
   "outputs": [],
   "source": [
    "keys = ['A', 'B', 'C', 'D', 'E']\n",
    "items = [5, 6, 6, 11, 20]\n",
    "\n",
    "keys2 = list(keys)\n",
    "graph = {}\n",
    "encode = []\n",
    "\n",
    "def huffman(keys, items):\n",
    "    while len(items) > 1:\n",
    "        \n",
    "        #sort\n",
    "        data = list(zip(items, keys))\n",
    "        data.sort(key = lambda x: x[0])\n",
    "        items, keys = zip(*data)\n",
    "        \n",
    "        #merge\n",
    "        new = items[0] + items[1]\n",
    "        graph[new] = [keys[0], keys [1]]\n",
    "        \n",
    "        #update\n",
    "        items = list(items[2:])\n",
    "        keys = list(keys[2:])\n",
    "        items.append(new)\n",
    "        keys.append(new)\n",
    "        \n",
    "    return new\n",
    "    \n",
    "def dfs(encode, graph, node, bit):\n",
    "    # condition false for root node\n",
    "    if node in keys2:\n",
    "        encode.append(bit)\n",
    "        print(f\"Encoding for {node} {encode[1:]}\")\n",
    "    else:\n",
    "        encode.append(bit)\n",
    "        if node in graph:\n",
    "            bit = 1\n",
    "            \n",
    "            for neighbour in graph[node]:\n",
    "                if bit == 1:\n",
    "                    bit = 0\n",
    "                else:\n",
    "                    bit = 1\n",
    "                dfs(encode.copy(), graph, neighbour, bit)\n",
    "\n",
    "root = huffman(keys, items)\n",
    "dfs(encode, graph, root, 1)"
   ]
  },
  {
   "cell_type": "code",
   "execution_count": null,
   "id": "481fea86",
   "metadata": {},
   "outputs": [],
   "source": []
  }
 ],
 "metadata": {
  "kernelspec": {
   "display_name": "Python 3 (ipykernel)",
   "language": "python",
   "name": "python3"
  },
  "language_info": {
   "codemirror_mode": {
    "name": "ipython",
    "version": 3
   },
   "file_extension": ".py",
   "mimetype": "text/x-python",
   "name": "python",
   "nbconvert_exporter": "python",
   "pygments_lexer": "ipython3",
   "version": "3.11.2"
  }
 },
 "nbformat": 4,
 "nbformat_minor": 5
}
