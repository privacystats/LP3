{
 "cells": [
  {
   "cell_type": "markdown",
   "id": "76f999f6",
   "metadata": {},
   "source": [
    "## FIBONACCI"
   ]
  },
  {
   "cell_type": "code",
   "execution_count": 18,
   "id": "7eb969c7",
   "metadata": {},
   "outputs": [
    {
     "name": "stdout",
     "output_type": "stream",
     "text": [
      "RECURSIVE\n",
      "0\n",
      "1\n",
      "1\n",
      "2\n",
      "3\n",
      "5\n",
      "8\n",
      "13\n",
      "21\n",
      "34\n",
      "\n",
      "NON-RECURSIVE\n",
      "0\n",
      "1\n",
      "1\n",
      "2\n",
      "3\n",
      "5\n",
      "8\n",
      "13\n",
      "21\n",
      "34\n"
     ]
    }
   ],
   "source": [
    "def recursive_fibonacci(n): \n",
    "    if n<=1: \n",
    "        return n \n",
    "    else: \n",
    "        return recursive_fibonacci(n-1) + recursive_fibonacci(n-2)\n",
    "    \n",
    "def non_recursive_fibonacci(n): \n",
    "    first=0 \n",
    "    second=1 \n",
    "    print(first) \n",
    "    print(second) \n",
    "    while n-2 > 0: \n",
    "        third = first + second \n",
    "        first=second \n",
    "        second=third \n",
    "        print(third) \n",
    "        n-=1\n",
    "        \n",
    "\n",
    "n=10 \n",
    "print(\"RECURSIVE\")\n",
    "for i in range(n):\n",
    "    print(recursive_fibonacci(i))\n",
    "#     non_recursive_fibonacci(n)\n",
    "\n",
    "print()\n",
    "print(\"NON-RECURSIVE\")\n",
    "non_recursive_fibonacci(n)\n"
   ]
  },
  {
   "cell_type": "code",
   "execution_count": 27,
   "id": "1275ee55",
   "metadata": {},
   "outputs": [
    {
     "name": "stdout",
     "output_type": "stream",
     "text": [
      "RECURSIVE: \n",
      "0 1 1 2 3 5 8 13 21 34 \n",
      "\n",
      "NON-RECURSIVE: \n",
      "0 1 1 2 3 5 8 13 21 34 "
     ]
    }
   ],
   "source": [
    "n = 10\n",
    "\n",
    "def rec_fibonacci(n):\n",
    "    \n",
    "    if n <= 1:\n",
    "        return n\n",
    "    else:\n",
    "        return rec_fibonacci(n-1) + rec_fibonacci(n-2)\n",
    "    \n",
    "\n",
    "def non_rec_fibonacci(n):\n",
    "    \n",
    "    first = 0\n",
    "    second = 1\n",
    "    \n",
    "    print(first, end = \" \")\n",
    "    print(second, end = \" \")\n",
    "    \n",
    "    while n-2 > 0:\n",
    "        third = first + second\n",
    "        first = second\n",
    "        second = third\n",
    "        print(third, end = \" \")\n",
    "        \n",
    "        n = n - 1\n",
    "\n",
    "print(\"RECURSIVE: \")\n",
    "for i in range(n):\n",
    "    print(rec_fibonacci(i), end = \" \")\n",
    "    \n",
    "print()\n",
    "print()\n",
    "print(\"NON-RECURSIVE: \")\n",
    "non_rec_fibonacci(n)\n"
   ]
  },
  {
   "cell_type": "code",
   "execution_count": null,
   "id": "171957d5",
   "metadata": {},
   "outputs": [],
   "source": []
  }
 ],
 "metadata": {
  "kernelspec": {
   "display_name": "Python 3 (ipykernel)",
   "language": "python",
   "name": "python3"
  },
  "language_info": {
   "codemirror_mode": {
    "name": "ipython",
    "version": 3
   },
   "file_extension": ".py",
   "mimetype": "text/x-python",
   "name": "python",
   "nbconvert_exporter": "python",
   "pygments_lexer": "ipython3",
   "version": "3.11.2"
  }
 },
 "nbformat": 4,
 "nbformat_minor": 5
}
